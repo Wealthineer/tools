{
 "cells": [
  {
   "cell_type": "code",
   "execution_count": 1,
   "metadata": {
    "collapsed": true
   },
   "outputs": [],
   "source": [
    "from pycoingecko import CoinGeckoAPI\n",
    "import pandas as pd\n",
    "import datetime\n",
    "\n",
    "cg = CoinGeckoAPI()\n",
    "token_dfs=[]"
   ]
  },
  {
   "cell_type": "code",
   "execution_count": 2,
   "outputs": [],
   "source": [
    "# Configure the timeframe, reference currency and filepath\n",
    "# and file name of the output here\n",
    "start_date_unix = int(datetime.datetime(2020, 4, 29).timestamp()) # year, month, day\n",
    "end_date_unix = int(datetime.datetime(2023, 4, 27).timestamp()) # year, month, day\n",
    "reference_currency = 'eur' #'eur', 'usd',...\n",
    "filepath = r'C:\\\\dev\\\\data\\\\'\n",
    "filename = 'token_prices.csv'\n"
   ],
   "metadata": {
    "collapsed": false,
    "pycharm": {
     "name": "#%%\n"
    }
   }
  },
  {
   "cell_type": "code",
   "execution_count": 3,
   "outputs": [],
   "source": [
    "# When using the free API from CoinGecko you are restricted to\n",
    "# 10-30 requests per minute - in testing I came more to 5 requests per minute.\n",
    "# So if you need more than 5 tokens consider making multiple batches of calls\n",
    "# you can achieve this by duplicating this block and executing it with a delay\n",
    "# of minutes between it. In the end all fetched data will be combined into a single\n",
    "# file.\n",
    "token_api_keys = [\n",
    "    \"ethereum\",\n",
    "    \"bitcoin\",\n",
    "    \"solana\",\n",
    "    \"cosmos\"\n",
    "]\n",
    "\n",
    "for api_key in token_api_keys:\n",
    "    result = cg.get_coin_market_chart_range_by_id(id=api_key, vs_currency=reference_currency, from_timestamp=start_date_unix, to_timestamp=end_date_unix)\n",
    "    prices = result[\"prices\"]\n",
    "    df = pd.DataFrame(prices)\n",
    "    df.columns= [\"timestamp_date\", \"price\"]\n",
    "    df['timestamp_date'] = pd.to_datetime(df['timestamp_date'], unit='ms').dt.date\n",
    "    df['token_symbol'] = api_key\n",
    "    token_dfs.append(df)\n"
   ],
   "metadata": {
    "collapsed": false,
    "pycharm": {
     "name": "#%%\n"
    }
   }
  },
  {
   "cell_type": "code",
   "execution_count": 4,
   "outputs": [],
   "source": [
    "price_df = pd.concat(token_dfs, ignore_index=True)\n",
    "price_df.to_csv(filepath + filename, index=False)"
   ],
   "metadata": {
    "collapsed": false,
    "pycharm": {
     "name": "#%%\n"
    }
   }
  },
  {
   "cell_type": "code",
   "execution_count": null,
   "outputs": [],
   "source": [],
   "metadata": {
    "collapsed": false,
    "pycharm": {
     "name": "#%%\n"
    }
   }
  }
 ],
 "metadata": {
  "kernelspec": {
   "display_name": "Python 3",
   "language": "python",
   "name": "python3"
  },
  "language_info": {
   "codemirror_mode": {
    "name": "ipython",
    "version": 2
   },
   "file_extension": ".py",
   "mimetype": "text/x-python",
   "name": "python",
   "nbconvert_exporter": "python",
   "pygments_lexer": "ipython2",
   "version": "2.7.6"
  }
 },
 "nbformat": 4,
 "nbformat_minor": 0
}